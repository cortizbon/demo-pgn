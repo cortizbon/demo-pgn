{
  "cells": [
    {
      "cell_type": "code",
      "execution_count": 1,
      "metadata": {
        "id": "h_0TD0wCcuPU"
      },
      "outputs": [],
      "source": [
        "import pandas as pd\n",
        "import re\n",
        "import numpy as np\n",
        "import json"
      ]
    },
    {
      "cell_type": "code",
      "execution_count": 2,
      "metadata": {
        "id": "aQqW0Q9M60TE"
      },
      "outputs": [],
      "source": [
        "def funcion1(row):\n",
        "  lista = ['FUNCIONAMIENTO', 'DEUDA', 'INVERSION', 'NACIONAL']\n",
        "  if pd.isna(row['CTA\\nPROG']):\n",
        "    return np.nan\n",
        "  else:\n",
        "    for i in lista:\n",
        "      if i in row['CTA\\nPROG']:\n",
        "        return i\n"
      ]
    },
    {
      "cell_type": "code",
      "execution_count": 3,
      "metadata": {
        "id": "hkch4b1Ac4o6"
      },
      "outputs": [],
      "source": [
        "df_cleaned = {}\n",
        "dic = {'A.  PRESUPUESTO DE FUNCIONAMIENTO ': 'FUNCIONAMIENTO',\n",
        " 'B.  PRESUPUESTO DE SERVICIO DE LA DEUDA PÚBLICA': 'DEUDA',\n",
        " 'C.  PRESUPUESTO DE INVERSION': 'INVERSION',\n",
        "       'TOTAL PRESUPUESTO NACIONAL': 'TOTAL'}\n",
        "\n",
        "\n",
        "for i in range(2013, 2023):\n",
        "  # importar los datos saltando 4 renglones porque hay espacio nulo antes de la tabla\n",
        "  df = pd.read_excel('data/Decreto_de_liquidacion.xlsx', sheet_name=f\"Gastos PGN {i}\",skiprows=4)\n",
        "  # el número de renglones puede variar, si la columna CONCEPTO no se encuentra en las columnas de la importación, cambiar a 5 renglones\n",
        "\n",
        "  if 'CONCEPTO' not in df.columns:\n",
        "    df = pd.read_excel('data/Decreto_de_liquidacion.xlsx', sheet_name=f\"Gastos PGN {i}\",skiprows=5)\n",
        "\n",
        "  # remover espacios de las columnas\n",
        "  df.columns = [s.strip() for s in df.columns]\n",
        "\n",
        "  # conservar únicamente la información cuando concepto o la cuenta no es nula\n",
        "  df = df[~(df['CTA\\nPROG'].isna()) | ~(df['CONCEPTO'].isna())]\n",
        "\n",
        "  # crear un diccionario con las entidades y el código respectivo\n",
        "  dic_entities = {}\n",
        "  # iterar sobre los datos únicos de concepto (vienen en pares sección, entidad)\n",
        "  for idx, valor in enumerate(df['CONCEPTO'].dropna().unique()):\n",
        "\n",
        "    if idx % 2 == 0:\n",
        "      # si el dato es par, se supone que hace referencia a sección, toma los cuatro dígitos\n",
        "      val = re.findall(f\"\\d+\", valor)[0]\n",
        "      # agrega al diccionario una llave con los cuatro dígitos y ubica a la entidad que está inmediatamente después\n",
        "      dic_entities[val] = df['CONCEPTO'].dropna().unique()[idx + 1]\n",
        "\n",
        "  # filtrar para conservar solo estas tres columnas\n",
        "  df = df.filter(['CTA\\nPROG', 'CONCEPTO', 'TOTAL'])\n",
        "\n",
        "  # extraer la palabra clave (funcionamiento, inversión o deuda)\n",
        "  df['CTA\\nPROG'] = df.apply(funcion1, axis=1)\n",
        "  # reiniciar índice para evitar problemas de búsqueda\n",
        "  df.reset_index(drop=True, inplace=True)\n",
        "  # reversar el diccionario creado\n",
        "  reversed_entities = {}\n",
        "  for key, value in dic_entities.items():\n",
        "    reversed_entities[value] = key\n",
        "\n",
        "  # crear una columna para después agregar los códigos\n",
        "  df['code'] = None\n",
        "\n",
        "  # agregar el código y rellenar la columna concepto para normalizar la información\n",
        "  for row in df.iterrows():\n",
        "    val = row[1]['CONCEPTO']\n",
        "    if pd.isna(val):\n",
        "      df.loc[row[0], 'CONCEPTO'] = subs\n",
        "      df.loc[row[0], 'code'] = code\n",
        "    elif \"SECCION\" not in val:\n",
        "      subs = val\n",
        "      code = reversed_entities[val]\n",
        "  # eliminar la fila con el valor de SECCION: en concepto\n",
        "  df = df[~(df['CONCEPTO'].str.contains('SECCION:'))].reset_index(drop=True)\n",
        "\n",
        "  # eliminar los datos nulos en el subset de total\n",
        "  df = df.dropna().reset_index(drop=True)\n",
        "\n",
        "  # agregar columna de código de sector\n",
        "  df['sector_code'] = df['code'].str.extract(pat=\"(^\\d{2})\")\n",
        "  df.rename(columns={'CTA\\nPROG': 'cuenta',\n",
        "                     'CONCEPTO': 'entidad',\n",
        "                     'TOTAL': 'cop',\n",
        "                     'code': 'entity_code'}, inplace=True)\n",
        "\n",
        "  # agregar el dataframe al diccionario\n",
        "  df_cleaned[i] = df\n"
      ]
    },
    {
      "cell_type": "code",
      "execution_count": 4,
      "metadata": {
        "id": "5yl63ciEBAu-"
      },
      "outputs": [],
      "source": [
        "data = (pd\n",
        " .concat(df_cleaned.values(), keys=df_cleaned.keys())\n",
        " .reset_index()\n",
        " .drop(columns='level_1')\n",
        " .rename(columns={'level_0':'year'}))"
      ]
    },
    {
      "cell_type": "code",
      "execution_count": 5,
      "metadata": {
        "id": "6AiN5PhSC2jx"
      },
      "outputs": [],
      "source": [
        "data.to_csv('data/gastos.csv', index=False)"
      ]
    },
    {
      "cell_type": "markdown",
      "metadata": {
        "id": "eZjCHna6CcV9"
      },
      "source": [
        "## Extraer datos 2023"
      ]
    },
    {
      "cell_type": "code",
      "execution_count": 6,
      "metadata": {
        "id": "US_GNLpFLLdr"
      },
      "outputs": [],
      "source": [
        "df = pd.read_excel('data/ANEXO DECRETO 2023 vr.xlsx', skiprows=2, sheet_name='Anexo del Decreto PGN 2023')\n",
        "df.columns = [i.strip() for i in df.columns]\n",
        "lista = ['A. FUNCIONAMIENTO','C. INVERSIÓN', 'C. INVERSION', r'^TOTAL', \"B. SERVICIO DE LA DEUDA PÚBLICA\"]\n",
        "df['CONCEPTO'] = df['CONCEPTO'].str.strip()\n",
        "\n",
        "df['CTA\\nPROG'] = df[(df['CONCEPTO'].str.contains('|'.join(lista)).fillna(False))]['CONCEPTO']\n",
        "df['CONCEPTO'] = df[~(df['CONCEPTO'].str.contains('|'.join(lista)).fillna(False))]['CONCEPTO']\n",
        "df = df.filter(['CTA\\nPROG', 'CONCEPTO', 'TOTAL'])\n",
        "\n",
        "df = df[~(df['CTA\\nPROG'].isna()) | ~(df['CONCEPTO'].isna())]\n",
        "df = df[~(df['CONCEPTO'].str.contains('UNIDAD:').fillna(False))]\n",
        "df.reset_index(drop=True, inplace=True)\n",
        "df\n",
        "idxs = {}\n",
        "for idx, s in enumerate(df['CONCEPTO']):\n",
        "  if not pd.isna(s):\n",
        "    if \"SECCIÓN: \" in s:\n",
        "      idxs[idx] = s\n",
        "      idxs[idx + 1] = df['CONCEPTO'][idx + 1]\n",
        "\n",
        "df['CONCEPTO'] = df.iloc[list(idxs.keys())]['CONCEPTO']\n",
        "df = df[~(df['CTA\\nPROG'].isna()) | ~(df['CONCEPTO'].isna())]\n",
        "df = df[df['CTA\\nPROG']!='TOTAL PRESUPUESTO']\n",
        "\n",
        "def funcion1(row):\n",
        "  lista = ['FUNCIONAMIENTO', 'DEUDA', 'INVERSIÓN', 'NACIONAL']\n",
        "  if pd.isna(row['CTA\\nPROG']):\n",
        "    return np.nan\n",
        "  else:\n",
        "    for i in lista:\n",
        "      if i in row['CTA\\nPROG']:\n",
        "        return i\n",
        "\n",
        "df['CTA\\nPROG'] = df.apply(funcion1, axis=1)\n",
        "\n",
        "dic_entities = {}\n",
        "# iterar sobre los datos únicos de concepto (vienen en pares sección, entidad)\n",
        "\n",
        "for idx, valor in enumerate(df['CONCEPTO'].dropna().unique()):\n",
        "\n",
        "    if idx % 2 == 0:\n",
        "      # si el dato es par, se supone que hace referencia a sección, toma los cuatro dígitos\n",
        "      val = re.findall(f\"\\d+\", valor)[0]\n",
        "      # agrega al diccionario una llave con los cuatro dígitos y ubica a la entidad que está inmediatamente después\n",
        "      dic_entities[val] = df['CONCEPTO'].dropna().unique()[idx + 1]\n",
        "\n",
        "\n",
        "df.reset_index(drop=True, inplace=True)\n",
        "  # reversar el diccionario creado\n",
        "reversed_entities = {}\n",
        "for key, value in dic_entities.items():\n",
        "    reversed_entities[value] = key\n",
        "\n",
        "  # crear una columna para después agregar los códigos\n",
        "df['code'] = None\n",
        "\n",
        "  # agregar el código y rellenar la columna concepto para normalizar la información\n",
        "for row in df.iterrows():\n",
        "    val = row[1]['CONCEPTO']\n",
        "    if pd.isna(val):\n",
        "      df.loc[row[0], 'CONCEPTO'] = subs\n",
        "      df.loc[row[0], 'code'] = code\n",
        "    elif \"SECCIÓN\" not in val:\n",
        "      subs = val\n",
        "      code = reversed_entities[val]\n",
        "  # eliminar la fila con el valor de SECCION: en concepto\n",
        "df = df[~(df['CONCEPTO'].str.contains('SECCION:'))].reset_index(drop=True)\n",
        "\n",
        "  # eliminar los datos nulos en el subset de total\n",
        "df = df.dropna().reset_index(drop=True)\n",
        "\n",
        "  # agregar columna de código de sector\n",
        "df['sector_code'] = df['code'].str.extract(pat=\"(^\\d{2})\")\n",
        "df.rename(columns={'CTA\\nPROG': 'cuenta',\n",
        "                     'CONCEPTO': 'entidad',\n",
        "                     'TOTAL': 'cop',\n",
        "                     'code': 'entity_code'}, inplace=True)"
      ]
    },
    {
      "cell_type": "code",
      "execution_count": 7,
      "metadata": {
        "id": "6pX3JNxgC-gb"
      },
      "outputs": [
        {
          "name": "stderr",
          "output_type": "stream",
          "text": [
            "/var/folders/rd/zs4xvzqn0qqds7psf6_1f74m0000gn/T/ipykernel_6349/1259952354.py:56: FutureWarning: Setting an item of incompatible dtype is deprecated and will raise in a future error of pandas. Value '0101' has dtype incompatible with float64, please explicitly cast to a compatible dtype first.\n",
            "  ads.loc[row[0], 'code'] = code\n"
          ]
        }
      ],
      "source": [
        "ads = pd.read_excel('data/Decreto de Liquidaci_n 1234 de 2023 (1).xlsx',\n",
        "              sheet_name='Art. 2 Adiciones PGN 2023',\n",
        "              skiprows=3)\n",
        "ads.columns = ads.columns.str.strip()\n",
        "ads = (ads.rename(columns = {'CONCEPTO':'nans',\n",
        "             'Unnamed: 3':'CONCEPTO'})\n",
        "     .filter(['CTA', 'CONCEPTO', 'TOTAL']))\n",
        "\n",
        "# mantener únicamente las cuentas y total final\n",
        "lista = ['INVERSIÓN', 'TOTAL', 'FUNCIONAMIENTO']\n",
        "ads['CTA'] = ads[(ads['CTA'].str.contains('|'.join(lista)).fillna(False))]['CTA']\n",
        "ads['CTA'] = ads[~(ads['CTA'].str.contains('SECCIÓN').fillna(False))]['CTA']\n",
        "#eliminar cuando sea nan tanto en cta como en concepto\n",
        "ads = ads[~(ads['CTA'].isna()) | ~(ads['CONCEPTO'].isna())]\n",
        "ads\n",
        "#cambiar nombres de las cuentas\n",
        "def funcion1(row):\n",
        "  lista = ['FUNCIONAMIENTO', 'DEUDA', 'INVERSIÓN', 'TOTAL']\n",
        "  if pd.isna(row['CTA']):\n",
        "    return np.nan\n",
        "  else:\n",
        "    for i in lista:\n",
        "      if i in row['CTA']:\n",
        "        return i\n",
        "\n",
        "ads['CTA'] = ads.apply(funcion1, axis=1)\n",
        "ads.reset_index(drop=True, inplace=True)\n",
        "\n",
        "\n",
        "#extraer sector\n",
        "dic_entities = {}\n",
        "# iterar sobre los datos únicos de concepto (vienen en pares sección, entidad)\n",
        "for idx, valor in enumerate(ads['CONCEPTO'].dropna().unique()):\n",
        "\n",
        "    if idx % 2 == 0:\n",
        "      # si el dato es par, se supone que hace referencia a sección, toma los cuatro dígitos\n",
        "      val = re.findall(f\"\\d+\", valor)[0]\n",
        "      # agrega al diccionario una llave con los cuatro dígitos y ubica a la entidad que está inmediatamente después\n",
        "      dic_entities[val] = ads['CONCEPTO'].dropna().unique()[idx + 1]\n",
        "\n",
        "ads.reset_index(drop=True, inplace=True)\n",
        "  # reversar el diccionario creado\n",
        "reversed_entities = {}\n",
        "for key, value in dic_entities.items():\n",
        "    reversed_entities[value] = key\n",
        "\n",
        "  # crear una columna para después agregar los códigos\n",
        "ads['code'] = np.nan\n",
        "\n",
        "  # agregar el código y rellenar la columna concepto para normalizar la información\n",
        "for row in ads.iterrows():\n",
        "\n",
        "    val = row[1]['CONCEPTO']\n",
        "    if pd.isna(val):\n",
        "      ads.loc[row[0], 'CONCEPTO'] = subs\n",
        "      ads.loc[row[0], 'code'] = code\n",
        "    elif \"SECCIÓN\" not in val:\n",
        "      subs = val\n",
        "      code = reversed_entities[val]\n",
        "\n",
        "ads.rename(columns={'CTA': 'cuenta',\n",
        "                     'CONCEPTO': 'entidad',\n",
        "                     'TOTAL': 'adicion',\n",
        "                     'code': 'entity_code'}, inplace=True)\n",
        "\n",
        "ads = ads[ads['entity_code'].notnull()]\n",
        "ads.reset_index(drop=True, inplace=True)"
      ]
    },
    {
      "cell_type": "code",
      "execution_count": 8,
      "metadata": {
        "id": "HeDx4AcgC_kZ"
      },
      "outputs": [],
      "source": [
        "ads['adicion'] = ads['adicion'].astype(int)"
      ]
    },
    {
      "cell_type": "code",
      "execution_count": 9,
      "metadata": {
        "id": "zGyLpSc7DB9P"
      },
      "outputs": [
        {
          "name": "stderr",
          "output_type": "stream",
          "text": [
            "/var/folders/rd/zs4xvzqn0qqds7psf6_1f74m0000gn/T/ipykernel_6349/4127525029.py:56: FutureWarning: Setting an item of incompatible dtype is deprecated and will raise in a future error of pandas. Value '0201' has dtype incompatible with float64, please explicitly cast to a compatible dtype first.\n",
            "  reds.loc[row[0], 'code'] = code\n"
          ]
        }
      ],
      "source": [
        "reds = pd.read_excel('data/Decreto de Liquidaci_n 1234 de 2023 (1).xlsx',\n",
        "            sheet_name='Art. 3 Reducciones PGN 2023',\n",
        "            skiprows=4)\n",
        "\n",
        "reds = (reds.rename(columns = {'CONCEPTO':'nans',\n",
        "             'Unnamed: 3':'CONCEPTO'})\n",
        "     .filter(['CTA', 'CONCEPTO', 'TOTAL']))\n",
        "\n",
        "#mantener únicamente las cuentas y total final\n",
        "lista = ['INVERSIÓN', 'TOTAL', 'FUNCIONAMIENTO']\n",
        "reds['CTA'] = reds[(reds['CTA'].str.contains('|'.join(lista)).fillna(False))]['CTA']\n",
        "reds['CTA'] = reds[~(reds['CTA'].str.contains('SECCIÓN').fillna(False))]['CTA']\n",
        "#eliminar cuando sea nan tanto en cta como en concepto\n",
        "reds = reds[~(reds['CTA'].isna()) | ~(reds['CONCEPTO'].isna())]\n",
        "\n",
        "#cambiar nombres de las cuentas\n",
        "def funcion1(row):\n",
        "  lista = ['FUNCIONAMIENTO', 'DEUDA', 'INVERSIÓN', 'TOTAL']\n",
        "  if pd.isna(row['CTA']):\n",
        "    return np.nan\n",
        "  else:\n",
        "    for i in lista:\n",
        "      if i in row['CTA']:\n",
        "        return i\n",
        "\n",
        "reds['CTA'] = reds.apply(funcion1, axis=1)\n",
        "reds.reset_index(drop=True, inplace=True)\n",
        "\n",
        "\n",
        "#extraer sector\n",
        "dic_entities = {}\n",
        "# iterar sobre los datos únicos de concepto (vienen en pares sección, entidad)\n",
        "for idx, valor in enumerate(reds['CONCEPTO'].dropna().unique()):\n",
        "\n",
        "    if idx % 2 == 0:\n",
        "      # si el dato es par, se supone que hace referencia a sección, toma los cuatro dígitos\n",
        "      val = re.findall(f\"\\d+\", valor)[0]\n",
        "      # agrega al diccionario una llave con los cuatro dígitos y ubica a la entidad que está inmediatamente después\n",
        "      dic_entities[val] = reds['CONCEPTO'].dropna().unique()[idx + 1]\n",
        "\n",
        "reds.reset_index(drop=True, inplace=True)\n",
        "  # reversar el diccionario creado\n",
        "reversed_entities = {}\n",
        "for key, value in dic_entities.items():\n",
        "    reversed_entities[value] = key\n",
        "\n",
        "  # crear una columna para después agregar los códigos\n",
        "reds['code'] = np.nan\n",
        "\n",
        "  # agregar el código y rellenar la columna concepto para normalizar la información\n",
        "for row in reds.iterrows():\n",
        "\n",
        "    val = row[1]['CONCEPTO']\n",
        "    if pd.isna(val):\n",
        "      reds.loc[row[0], 'CONCEPTO'] = subs\n",
        "      reds.loc[row[0], 'code'] = code\n",
        "    elif \"SECCIÓN\" not in val:\n",
        "      subs = val\n",
        "      code = reversed_entities[val]\n",
        "\n",
        "reds.rename(columns={'CTA': 'cuenta',\n",
        "                     'CONCEPTO': 'entidad',\n",
        "                     'TOTAL': 'reduccion',\n",
        "                     'code': 'entity_code'}, inplace=True)\n",
        "\n",
        "reds = reds[reds['entity_code'].notnull()]\n",
        "reds.reset_index(drop=True, inplace=True)\n",
        "reds['reduccion'] = reds['reduccion'].astype(int)\n",
        "reds.drop(index=13, inplace=True)\n",
        "ads.drop(index=86, inplace=True)"
      ]
    },
    {
      "cell_type": "code",
      "execution_count": 10,
      "metadata": {
        "id": "b2oinriyFq7p"
      },
      "outputs": [],
      "source": [
        "gastos = pd.read_csv('data/gastos.csv')"
      ]
    },
    {
      "cell_type": "code",
      "execution_count": 11,
      "metadata": {
        "id": "ZZ9UOYicFz8A"
      },
      "outputs": [],
      "source": [
        "df['year'] = 2023"
      ]
    },
    {
      "cell_type": "code",
      "execution_count": 12,
      "metadata": {
        "id": "5DKwrIu7DcSG"
      },
      "outputs": [],
      "source": [
        "changes = pd.merge(reds, ads, on=['cuenta', 'entity_code', 'entidad'], how='outer').fillna(0)\n",
        "changes['neto'] = changes['adicion'] - changes['reduccion']\n",
        "changes['entidad'] = changes['entidad'].str.strip()\n",
        "changes['year'] = 2023\n",
        "\n",
        "pgn_2013 = df.merge(changes[['year', 'cuenta', 'entidad', 'entity_code','neto']], on=['year','cuenta', 'entidad', 'entity_code'], how='outer').fillna(0)\n",
        "pgn_2013['cop'] = pgn_2013['cop'] + pgn_2013['neto']\n",
        "pgn_2013.drop(columns='neto', inplace=True)\n",
        "\n"
      ]
    },
    {
      "cell_type": "markdown",
      "metadata": {
        "id": "mxy8m2CiCeUA"
      },
      "source": [
        "## Extraer datos 2024"
      ]
    },
    {
      "cell_type": "code",
      "execution_count": 13,
      "metadata": {
        "id": "pCqlhBoHCiKG"
      },
      "outputs": [],
      "source": [
        "df = pd.read_excel('data/Anexo Detalle de Gasto - Decreto PGN 2024.xlsx', skiprows=2)\n",
        "df.columns = [i.strip() for i in df.columns]\n",
        "lista = ['A. FUNCIONAMIENTO','C. INVERSIÓN', 'C. INVERSION', r'^TOTAL', \"B. SERVICIO DE LA DEUDA PÚBLICA\"]\n",
        "df['CTA\\nPROG'] = df[(df['CONCEPTO'].str.contains('|'.join(lista)).fillna(False))]['CONCEPTO']\n",
        "df['CONCEPTO'] = df[~(df['CONCEPTO'].str.contains('|'.join(lista)).fillna(False))]['CONCEPTO']\n",
        "df = df.filter(['CTA\\nPROG', 'CONCEPTO', 'TOTAL'])\n",
        "\n",
        "df = df[~(df['CTA\\nPROG'].isna()) | ~(df['CONCEPTO'].isna())]\n",
        "df = df[~(df['CONCEPTO'].str.contains('UNIDAD:').fillna(False))]\n",
        "df.reset_index(drop=True, inplace=True)\n",
        "\n",
        "idxs = {}\n",
        "for idx, s in enumerate(df['CONCEPTO']):\n",
        "  if not pd.isna(s):\n",
        "    if \"SECCIÓN: \" in s:\n",
        "      idxs[idx] = s\n",
        "      idxs[idx + 1] = df['CONCEPTO'][idx + 1]\n",
        "\n",
        "df['CONCEPTO'] = df.iloc[list(idxs.keys())]['CONCEPTO']\n",
        "df = df[~(df['CTA\\nPROG'].isna()) | ~(df['CONCEPTO'].isna())]\n",
        "df = df[df['CTA\\nPROG']!='TOTAL PRESUPUESTO']\n",
        "\n",
        "def funcion1(row):\n",
        "  lista = ['FUNCIONAMIENTO', 'DEUDA', 'INVERSIÓN', 'NACIONAL']\n",
        "  if pd.isna(row['CTA\\nPROG']):\n",
        "    return np.nan\n",
        "  else:\n",
        "    for i in lista:\n",
        "      if i in row['CTA\\nPROG']:\n",
        "        return i\n",
        "\n",
        "df['CTA\\nPROG'] = df.apply(funcion1, axis=1)\n",
        "\n",
        "dic_entities = {}\n",
        "# iterar sobre los datos únicos de concepto (vienen en pares sección, entidad)\n",
        "for idx, valor in enumerate(df['CONCEPTO'].dropna().unique()):\n",
        "\n",
        "    if idx % 2 == 0:\n",
        "      # si el dato es par, se supone que hace referencia a sección, toma los cuatro dígitos\n",
        "      val = re.findall(f\"\\d+\", valor)[0]\n",
        "      # agrega al diccionario una llave con los cuatro dígitos y ubica a la entidad que está inmediatamente después\n",
        "      dic_entities[val] = df['CONCEPTO'].dropna().unique()[idx + 1]\n",
        "\n",
        "df.reset_index(drop=True, inplace=True)\n",
        "  # reversar el diccionario creado\n",
        "reversed_entities = {}\n",
        "for key, value in dic_entities.items():\n",
        "    reversed_entities[value] = key\n",
        "\n",
        "  # crear una columna para después agregar los códigos\n",
        "df['code'] = None\n",
        "\n",
        "  # agregar el código y rellenar la columna concepto para normalizar la información\n",
        "for row in df.iterrows():\n",
        "    val = row[1]['CONCEPTO']\n",
        "    if pd.isna(val):\n",
        "      df.loc[row[0], 'CONCEPTO'] = subs\n",
        "      df.loc[row[0], 'code'] = code\n",
        "    elif \"SECCIÓN\" not in val:\n",
        "      subs = val\n",
        "      code = reversed_entities[val]\n",
        "  # eliminar la fila con el valor de SECCION: en concepto\n",
        "df = df[~(df['CONCEPTO'].str.contains('SECCION:'))].reset_index(drop=True)\n",
        "\n",
        "  # eliminar los datos nulos en el subset de total\n",
        "df = df.dropna().reset_index(drop=True)\n",
        "\n",
        "  # agregar columna de código de sector\n",
        "df['sector_code'] = df['code'].str.extract(pat=\"(^\\d{2})\")\n",
        "df.rename(columns={'CTA\\nPROG': 'cuenta',\n",
        "                     'CONCEPTO': 'entidad',\n",
        "                     'TOTAL': 'cop',\n",
        "                     'code': 'entity_code'}, inplace=True)\n",
        "\n",
        "df['year'] = 2024"
      ]
    },
    {
      "cell_type": "code",
      "execution_count": 14,
      "metadata": {
        "id": "gVJ4iakDHKus"
      },
      "outputs": [],
      "source": [
        "pd.concat([gastos, pgn_2013, df]).to_csv('data/gastos_2013-2024.csv', index=False)\n",
        "final = pd.concat([gastos, pgn_2013, df])\n",
        "final = final[final['cuenta'] != 'NACIONAL']\n",
        "final.to_csv('data/gastos_2013-2024.csv', index=False)"
      ]
    },
    {
      "cell_type": "markdown",
      "metadata": {
        "id": "sZCfiF4_Cf75"
      },
      "source": [
        "## Deflactación"
      ]
    },
    {
      "cell_type": "code",
      "execution_count": 15,
      "metadata": {
        "id": "RqVwZggcChow"
      },
      "outputs": [],
      "source": [
        "df = pd.read_csv('data/gastos_2013-2024.csv')\n",
        "ipc = pd.read_csv('data/ipc.csv')"
      ]
    },
    {
      "cell_type": "code",
      "execution_count": 16,
      "metadata": {
        "id": "YNQeVQGXENg0"
      },
      "outputs": [],
      "source": [
        "ipc.columns = ipc.columns.str.strip().str.lower().str.replace(\" \",\"_\")\n",
        "ipc['year'] = pd.to_datetime(ipc['mes_año'], format='%Y%m').dt.year\n",
        "ipc['mes'] = pd.to_datetime(ipc['mes_año'], format='%Y%m').dt.month\n",
        "ipc = ipc[ipc['mes'] == 12]\n",
        "ipc = ipc.filter(['indice', 'year']).reset_index(drop=True)\n",
        "ipc = ipc.sort_values(by='year').reset_index(drop=True)\n",
        "ipc['indice'] = ipc['indice'].str.replace(',','.')\n",
        "ipc['indice'] = ipc['indice'].astype(float)\n",
        "ipc['year'] += 1"
      ]
    },
    {
      "cell_type": "code",
      "execution_count": 17,
      "metadata": {
        "id": "D9i3gXjmETMU"
      },
      "outputs": [],
      "source": [
        "gastos_ipc = df.merge(ipc)\n",
        "gastos_ipc\n",
        "gastos_ipc['cop_def'] = gastos_ipc['cop'] / (gastos_ipc['indice'] / 100)\n",
        "gastos_ipc.loc[gastos_ipc['entidad'] == 'CLUB MILITAR DE OFICIALES', 'sector_code'] = 15\n",
        "gastos_ipc['entidad'] = gastos_ipc['entidad'].str.strip()\n",
        "gastos_ipc[gastos_ipc['cuenta']!='NACIONAL'].replace('INVERSIÓN','INVERSION').reset_index(drop=True).to_csv('data/gastos_2013_2024_const.csv', index=False)"
      ]
    },
    {
      "cell_type": "markdown",
      "metadata": {
        "id": "B92hZVMsEXQP"
      },
      "source": [
        "JSON entidades"
      ]
    },
    {
      "cell_type": "code",
      "execution_count": 49,
      "metadata": {
        "id": "XSAhlVSeEXEV"
      },
      "outputs": [],
      "source": [
        "dictio = {}\n",
        "\n",
        "for year, sector, entity_code, entidad in gastos_ipc.groupby(['year', 'sector_code', 'entity_code', 'entidad'])['cop'].sum().index:\n",
        "  if dictio.get(year) == None:\n",
        "    dictio[year] = {}\n",
        "    if dictio[year].get(sector) == None:\n",
        "      dictio[year][sector] = {}\n",
        "      if dictio[year][sector].get(entity_code) == None:\n",
        "        dictio[year][sector][entity_code] = entidad\n",
        "      else:\n",
        "        pass\n",
        "    else:\n",
        "      if dictio[year][sector].get(entity_code) == None:\n",
        "        dictio[year][sector][entity_code] = entidad\n",
        "      else:\n",
        "        pass\n",
        "  else:\n",
        "    if dictio[year].get(sector) == None:\n",
        "      dictio[year][sector] = {}\n",
        "      if dictio[year][sector].get(entity_code) == None:\n",
        "        dictio[year][sector][entity_code] = entidad\n",
        "      else:\n",
        "        pass\n",
        "    else:\n",
        "      if dictio[year][sector].get(entity_code) == None:\n",
        "        dictio[year][sector][entity_code] = entidad\n",
        "      else:\n",
        "        pass"
      ]
    },
    {
      "cell_type": "code",
      "execution_count": 50,
      "metadata": {
        "id": "LlBc_67VEZXB"
      },
      "outputs": [],
      "source": [
        "with open(\"data/dictio.json\", 'w') as ds:\n",
        "  json.dump(dictio, ds)"
      ]
    },
    {
      "cell_type": "markdown",
      "metadata": {
        "id": "S_spyNzzIMir"
      },
      "source": [
        "#EXP"
      ]
    },
    {
      "cell_type": "code",
      "execution_count": 51,
      "metadata": {
        "id": "AgslhKs0IJ-n"
      },
      "outputs": [],
      "source": [
        "gastos_ipc = gastos_ipc[gastos_ipc['cuenta']!='NACIONAL'].replace('INVERSIÓN','INVERSION').reset_index(drop=True)"
      ]
    },
    {
      "cell_type": "code",
      "execution_count": 52,
      "metadata": {
        "colab": {
          "base_uri": "https://localhost:8080/",
          "height": 457
        },
        "id": "crifrsMlIOZm",
        "outputId": "aff17f35-5e5f-40a5-8730-8570e62d7133"
      },
      "outputs": [
        {
          "data": {
            "text/html": [
              "<div>\n",
              "<style scoped>\n",
              "    .dataframe tbody tr th:only-of-type {\n",
              "        vertical-align: middle;\n",
              "    }\n",
              "\n",
              "    .dataframe tbody tr th {\n",
              "        vertical-align: top;\n",
              "    }\n",
              "\n",
              "    .dataframe thead th {\n",
              "        text-align: right;\n",
              "    }\n",
              "</style>\n",
              "<table border=\"1\" class=\"dataframe\">\n",
              "  <thead>\n",
              "    <tr style=\"text-align: right;\">\n",
              "      <th></th>\n",
              "      <th>cop</th>\n",
              "      <th>cop_def</th>\n",
              "    </tr>\n",
              "    <tr>\n",
              "      <th>year</th>\n",
              "      <th></th>\n",
              "      <th></th>\n",
              "    </tr>\n",
              "  </thead>\n",
              "  <tbody>\n",
              "    <tr>\n",
              "      <th>2013</th>\n",
              "      <td>1.855246e+14</td>\n",
              "      <td>2.376997e+14</td>\n",
              "    </tr>\n",
              "    <tr>\n",
              "      <th>2014</th>\n",
              "      <td>2.030000e+14</td>\n",
              "      <td>2.551533e+14</td>\n",
              "    </tr>\n",
              "    <tr>\n",
              "      <th>2015</th>\n",
              "      <td>2.161581e+14</td>\n",
              "      <td>2.621051e+14</td>\n",
              "    </tr>\n",
              "    <tr>\n",
              "      <th>2016</th>\n",
              "      <td>2.159144e+14</td>\n",
              "      <td>2.452179e+14</td>\n",
              "    </tr>\n",
              "    <tr>\n",
              "      <th>2017</th>\n",
              "      <td>2.244217e+14</td>\n",
              "      <td>2.410285e+14</td>\n",
              "    </tr>\n",
              "    <tr>\n",
              "      <th>2018</th>\n",
              "      <td>2.355538e+14</td>\n",
              "      <td>2.430394e+14</td>\n",
              "    </tr>\n",
              "    <tr>\n",
              "      <th>2019</th>\n",
              "      <td>2.589973e+14</td>\n",
              "      <td>2.589973e+14</td>\n",
              "    </tr>\n",
              "    <tr>\n",
              "      <th>2020</th>\n",
              "      <td>2.717140e+14</td>\n",
              "      <td>2.617669e+14</td>\n",
              "    </tr>\n",
              "    <tr>\n",
              "      <th>2021</th>\n",
              "      <td>3.139980e+14</td>\n",
              "      <td>2.976849e+14</td>\n",
              "    </tr>\n",
              "    <tr>\n",
              "      <th>2022</th>\n",
              "      <td>3.503975e+14</td>\n",
              "      <td>3.145117e+14</td>\n",
              "    </tr>\n",
              "    <tr>\n",
              "      <th>2023</th>\n",
              "      <td>4.220587e+14</td>\n",
              "      <td>3.348875e+14</td>\n",
              "    </tr>\n",
              "    <tr>\n",
              "      <th>2024</th>\n",
              "      <td>5.025968e+14</td>\n",
              "      <td>3.649411e+14</td>\n",
              "    </tr>\n",
              "  </tbody>\n",
              "</table>\n",
              "</div>"
            ],
            "text/plain": [
              "               cop       cop_def\n",
              "year                            \n",
              "2013  1.855246e+14  2.376997e+14\n",
              "2014  2.030000e+14  2.551533e+14\n",
              "2015  2.161581e+14  2.621051e+14\n",
              "2016  2.159144e+14  2.452179e+14\n",
              "2017  2.244217e+14  2.410285e+14\n",
              "2018  2.355538e+14  2.430394e+14\n",
              "2019  2.589973e+14  2.589973e+14\n",
              "2020  2.717140e+14  2.617669e+14\n",
              "2021  3.139980e+14  2.976849e+14\n",
              "2022  3.503975e+14  3.145117e+14\n",
              "2023  4.220587e+14  3.348875e+14\n",
              "2024  5.025968e+14  3.649411e+14"
            ]
          },
          "execution_count": 52,
          "metadata": {},
          "output_type": "execute_result"
        }
      ],
      "source": [
        "gastos_ipc.groupby(['year'])[['cop', 'cop_def']].sum()"
      ]
    },
    {
      "cell_type": "code",
      "execution_count": null,
      "metadata": {
        "id": "DBEBCnVxIRIO"
      },
      "outputs": [],
      "source": []
    }
  ],
  "metadata": {
    "colab": {
      "provenance": []
    },
    "kernelspec": {
      "display_name": "Python 3",
      "name": "python3"
    },
    "language_info": {
      "codemirror_mode": {
        "name": "ipython",
        "version": 3
      },
      "file_extension": ".py",
      "mimetype": "text/x-python",
      "name": "python",
      "nbconvert_exporter": "python",
      "pygments_lexer": "ipython3",
      "version": "3.11.5"
    }
  },
  "nbformat": 4,
  "nbformat_minor": 0
}
